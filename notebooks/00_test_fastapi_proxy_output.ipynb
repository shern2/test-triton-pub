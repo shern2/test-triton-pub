{
 "cells": [
  {
   "cell_type": "markdown",
   "metadata": {},
   "source": [
    "This notebooks allows us to test Triton's output via the FastAPI proxy, from our local machine."
   ]
  },
  {
   "cell_type": "code",
   "execution_count": 4,
   "metadata": {},
   "outputs": [],
   "source": [
    "import httpx\n",
    "\n",
    "ahttp = httpx.AsyncClient()"
   ]
  },
  {
   "cell_type": "code",
   "execution_count": 12,
   "metadata": {},
   "outputs": [],
   "source": [
    "async def health_check():\n",
    "    resp = await ahttp.get(\"http://localhost:8005/health\")\n",
    "    return resp.status_code, resp.text\n",
    "\n",
    "\n",
    "async def test_simple_net():\n",
    "    resp = await ahttp.post(\n",
    "        \"http://localhost:8005/models/simple_net\",\n",
    "        json={\"x\": [1.0, 1.0]},\n",
    "    )\n",
    "    return resp.json()\n",
    "\n",
    "\n",
    "async def test_finbert_model(trt_model: bool = False):\n",
    "    resp = await ahttp.post(\n",
    "        \"http://localhost:8005/models/finbert-model\",\n",
    "        json={\n",
    "            \"input_ids\": [101, 15768, 24356, 1998, 1996, 2329, 9044, 4227, 1012, 102],\n",
    "            \"attention_mask\": [1, 1, 1, 1, 1, 1, 1, 1, 1, 1],\n",
    "            \"token_type_ids\": [0, 0, 0, 0, 0, 0, 0, 0, 0, 0],\n",
    "            \"trt_model\": trt_model,\n",
    "        },\n",
    "    )\n",
    "    return resp.json()\n",
    "\n",
    "\n",
    "async def test_finbert_tokenizer():\n",
    "    resp = await ahttp.post(\n",
    "        \"http://localhost:8005/models/finbert-tokenizer\",\n",
    "        json={\n",
    "            \"text\": \"Stocks rallied and the British pound gained.\",\n",
    "        },\n",
    "    )\n",
    "    return resp.json()\n",
    "\n",
    "\n",
    "async def test_finbert():\n",
    "    resp = await ahttp.post(\n",
    "        \"http://localhost:8005/models/finbert\",\n",
    "        json={\n",
    "            \"text\": \"Stocks rallied and the British pound gained.\",\n",
    "        },\n",
    "    )\n",
    "    return resp.json()"
   ]
  },
  {
   "cell_type": "code",
   "execution_count": 13,
   "metadata": {},
   "outputs": [
    {
     "name": "stdout",
     "output_type": "stream",
     "text": [
      "(200, '{\"status\":\"OK\"}')\n",
      "{'prediction': [2.0, 2.0]}\n",
      "{'error': 'Failed to query Triton Inference Server', 'details': \"[StatusCode.NOT_FOUND] Request for unknown model: 'finbert-model' is not found\"}\n",
      "{'error': 'Failed to query Triton Inference Server', 'details': \"[StatusCode.NOT_FOUND] Request for unknown model: 'finbert-trt-model' is not found\"}\n",
      "{'error': 'Failed to query Triton Inference Server', 'details': \"[StatusCode.NOT_FOUND] Request for unknown model: 'finbert-tokenizer' is not found\"}\n",
      "{'error': 'Failed to query Triton Inference Server', 'details': \"[StatusCode.NOT_FOUND] Request for unknown model: 'finbert' is not found\"}\n"
     ]
    }
   ],
   "source": [
    "print(await health_check())\n",
    "print(await test_simple_net())\n",
    "print(await test_finbert_model())\n",
    "print(await test_finbert_model(True))\n",
    "print(await test_finbert_tokenizer())\n",
    "print(await test_finbert())"
   ]
  },
  {
   "cell_type": "code",
   "execution_count": null,
   "metadata": {},
   "outputs": [],
   "source": [
    "# ## [debug]\n",
    "# resp = await test_finbert()\n",
    "# print(resp.json()['details'])"
   ]
  }
 ],
 "metadata": {
  "kernelspec": {
   "display_name": "nlp",
   "language": "python",
   "name": "python3"
  },
  "language_info": {
   "codemirror_mode": {
    "name": "ipython",
    "version": 3
   },
   "file_extension": ".py",
   "mimetype": "text/x-python",
   "name": "python",
   "nbconvert_exporter": "python",
   "pygments_lexer": "ipython3",
   "version": "3.12.8"
  }
 },
 "nbformat": 4,
 "nbformat_minor": 2
}
