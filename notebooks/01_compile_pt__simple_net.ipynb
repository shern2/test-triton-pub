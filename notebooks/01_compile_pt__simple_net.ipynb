{
 "cells": [
  {
   "cell_type": "markdown",
   "metadata": {},
   "source": [
    "This notebook compiles a TorchScript model for a simple untrained neural network.\n",
    "\n",
    "Note that the corresponding `config.pbtxt` is pre-provided in the model directory `models/simple_net/`"
   ]
  },
  {
   "cell_type": "code",
   "execution_count": null,
   "metadata": {},
   "outputs": [],
   "source": [
    "import torch\n",
    "import torch.nn as nn\n",
    "import torch.nn.functional as F\n",
    "\n",
    "from src.config import SimpleNetCfg, models_dir\n",
    "\n",
    "pth_model = SimpleNetCfg.pth_model\n",
    "pth_model.parent.mkdir(parents=True, exist_ok=True)\n",
    "\n",
    "\n",
    "class SimpleNet(nn.Module):\n",
    "    def __init__(self):\n",
    "        super(SimpleNet, self).__init__()\n",
    "        self.fc1 = nn.Linear(2, 2)\n",
    "\n",
    "        self.fc1.weight.data.fill_(1.0)\n",
    "        self.fc1.bias.data.fill_(0.0)\n",
    "\n",
    "    def forward(self, x):\n",
    "        x = F.relu(self.fc1(x))\n",
    "        return x\n",
    "\n",
    "\n",
    "if not models_dir.exists():\n",
    "    raise FileNotFoundError(f\"Compilation expects this directory to exist: {models_dir}\")\n",
    "print(\"[stt] compile model\")\n",
    "model = SimpleNet()\n",
    "model.eval()\n",
    "example_input = torch.randn(1, 2)\n",
    "torch.jit.script(model).save(pth_model)\n",
    "print(f\"Model saved at: {pth_model}\")\n",
    "print(\"[end] compile model\")"
   ]
  }
 ],
 "metadata": {
  "kernelspec": {
   "display_name": "r",
   "language": "python",
   "name": "python3"
  },
  "language_info": {
   "codemirror_mode": {
    "name": "ipython",
    "version": 3
   },
   "file_extension": ".py",
   "mimetype": "text/x-python",
   "name": "python",
   "nbconvert_exporter": "python",
   "pygments_lexer": "ipython3",
   "version": "3.10.14"
  }
 },
 "nbformat": 4,
 "nbformat_minor": 2
}
